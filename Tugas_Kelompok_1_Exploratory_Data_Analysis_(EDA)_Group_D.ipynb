{
  "nbformat": 4,
  "nbformat_minor": 0,
  "metadata": {
    "colab": {
      "name": "Tugas Kelompok 1 Exploratory Data Analysis (EDA) - Group D.ipynb",
      "provenance": [],
      "collapsed_sections": []
    },
    "kernelspec": {
      "name": "python3",
      "display_name": "Python 3"
    },
    "language_info": {
      "name": "python"
    }
  },
  "cells": [
    {
      "cell_type": "markdown",
      "metadata": {
        "id": "Nva6zomURwLZ"
      },
      "source": [
        "#**TUGAS KELOMPOK 1 *EXPLORATORY DATA ANALYSIS* (EDA)**\n",
        "\n",
        "\\\\\n",
        "*Anggota kelompok:*\n",
        "1.   Daniel Rivaldo Haryanto (2006534890)\n",
        "2.   Muhammad Ammar Daffa (2006571066)\n",
        "3.   Ruth Intan Davina (2006483246)\n",
        "4.   Sachi Kirana Hera Singh (2006572926)\n",
        "5.   Salsabilla (2006463856)"
      ]
    },
    {
      "cell_type": "code",
      "metadata": {
        "id": "9KaKMUm2H1V7"
      },
      "source": [
        "import warnings; warnings.simplefilter('ignore')\n",
        "import seaborn as sns\n",
        "import numpy as np\n",
        "from collections import Counter\n",
        "import pandas as pd, matplotlib.pyplot as plt\n",
        "import matplotlib.cm as cm\n",
        "plt.style.use('bmh'); sns.set()"
      ],
      "execution_count": 1,
      "outputs": []
    },
    {
      "cell_type": "code",
      "metadata": {
        "colab": {
          "base_uri": "https://localhost:8080/"
        },
        "id": "P0ma-04sLg9b",
        "outputId": "f969f5cb-a9df-4c60-dc9f-8faa583c9184"
      },
      "source": [
        "!mkdir data\n",
        "!wget -P data/ https://raw.githubusercontent.com/taudata-indonesia/eLearning/master/data/price.csv\n",
        "price = pd.read_csv('data/price.csv')"
      ],
      "execution_count": 2,
      "outputs": [
        {
          "output_type": "stream",
          "text": [
            "--2021-04-14 05:38:56--  https://raw.githubusercontent.com/taudata-indonesia/eLearning/master/data/price.csv\n",
            "Resolving raw.githubusercontent.com (raw.githubusercontent.com)... 185.199.108.133, 185.199.111.133, 185.199.110.133, ...\n",
            "Connecting to raw.githubusercontent.com (raw.githubusercontent.com)|185.199.108.133|:443... connected.\n",
            "HTTP request sent, awaiting response... 200 OK\n",
            "Length: 53592 (52K) [text/plain]\n",
            "Saving to: ‘data/price.csv’\n",
            "\n",
            "\rprice.csv             0%[                    ]       0  --.-KB/s               \rprice.csv           100%[===================>]  52.34K  --.-KB/s    in 0.007s  \n",
            "\n",
            "2021-04-14 05:38:57 (7.35 MB/s) - ‘data/price.csv’ saved [53592/53592]\n",
            "\n"
          ],
          "name": "stdout"
        }
      ]
    },
    {
      "cell_type": "markdown",
      "metadata": {
        "id": "0nXDszr9NFJz"
      },
      "source": [
        "###**Tugas 1:**\n",
        "**Keluarkan *outlier* atasnya.**"
      ]
    },
    {
      "cell_type": "code",
      "metadata": {
        "colab": {
          "base_uri": "https://localhost:8080/"
        },
        "id": "9aLkJ9A1NAQd",
        "outputId": "814a6cc4-ca7b-4c9f-9b77-bd7b101b9a3e"
      },
      "source": [
        "price.drop(\"Observation\", axis=1, inplace=True)\n",
        "price.drop_duplicates(inplace=True)\n",
        "price['Parking'] = price['Parking'].astype('category')\n",
        "price['City_Category'] = price['City_Category'].astype('category')\n",
        "price2 = price[np.abs(price.House_Price - price.House_Price.mean())<=(2*price.House_Price.std())]\n",
        "price2.info()"
      ],
      "execution_count": 3,
      "outputs": [
        {
          "output_type": "stream",
          "text": [
            "<class 'pandas.core.frame.DataFrame'>\n",
            "Int64Index: 931 entries, 0 to 931\n",
            "Data columns (total 9 columns):\n",
            " #   Column         Non-Null Count  Dtype   \n",
            "---  ------         --------------  -----   \n",
            " 0   Dist_Taxi      918 non-null    float64 \n",
            " 1   Dist_Market    918 non-null    float64 \n",
            " 2   Dist_Hospital  930 non-null    float64 \n",
            " 3   Carpet         923 non-null    float64 \n",
            " 4   Builtup        916 non-null    float64 \n",
            " 5   Parking        931 non-null    category\n",
            " 6   City_Category  931 non-null    category\n",
            " 7   Rainfall       931 non-null    int64   \n",
            " 8   House_Price    931 non-null    int64   \n",
            "dtypes: category(2), float64(5), int64(2)\n",
            "memory usage: 60.3 KB\n"
          ],
          "name": "stdout"
        }
      ]
    },
    {
      "cell_type": "code",
      "metadata": {
        "colab": {
          "base_uri": "https://localhost:8080/",
          "height": 203
        },
        "id": "KxK-DGVML5kC",
        "outputId": "fe380ada-53d7-46e4-ffe5-4f7250b74dfe"
      },
      "source": [
        "HousePrice = price2[\"House_Price\"]\n",
        "\n",
        "\n",
        "Q1 = HousePrice.quantile(0.25)\n",
        "Q3 = HousePrice.quantile(0.75)\n",
        "IQR = Q3 - Q1\n",
        "\n",
        "print(\"Q1 = \" + str(Q1))\n",
        "print(\"\\nQ3 = \" + str(Q3))\n",
        "print(\"\\nIQR = \" + str(IQR))\n",
        "\n",
        "\n",
        "UpperOutlier = HousePrice > Q3 + 1.5*IQR\n",
        "\n",
        "print(\"\\nOutlier atasnya terletak pada data di bawah ini.\")\n",
        "price2.loc[UpperOutlier].head()"
      ],
      "execution_count": 4,
      "outputs": [
        {
          "output_type": "stream",
          "text": [
            "Q1 = 4658000.0\n",
            "\n",
            "Q3 = 7180500.0\n",
            "\n",
            "IQR = 2522500.0\n",
            "\n",
            "Outlier atasnya terletak pada data di bawah ini.\n"
          ],
          "name": "stdout"
        },
        {
          "output_type": "execute_result",
          "data": {
            "text/html": [
              "<div>\n",
              "<style scoped>\n",
              "    .dataframe tbody tr th:only-of-type {\n",
              "        vertical-align: middle;\n",
              "    }\n",
              "\n",
              "    .dataframe tbody tr th {\n",
              "        vertical-align: top;\n",
              "    }\n",
              "\n",
              "    .dataframe thead th {\n",
              "        text-align: right;\n",
              "    }\n",
              "</style>\n",
              "<table border=\"1\" class=\"dataframe\">\n",
              "  <thead>\n",
              "    <tr style=\"text-align: right;\">\n",
              "      <th></th>\n",
              "      <th>Dist_Taxi</th>\n",
              "      <th>Dist_Market</th>\n",
              "      <th>Dist_Hospital</th>\n",
              "      <th>Carpet</th>\n",
              "      <th>Builtup</th>\n",
              "      <th>Parking</th>\n",
              "      <th>City_Category</th>\n",
              "      <th>Rainfall</th>\n",
              "      <th>House_Price</th>\n",
              "    </tr>\n",
              "  </thead>\n",
              "  <tbody>\n",
              "    <tr>\n",
              "      <th>678</th>\n",
              "      <td>7288.0</td>\n",
              "      <td>9560.0</td>\n",
              "      <td>12531.0</td>\n",
              "      <td>1989.0</td>\n",
              "      <td>2414.0</td>\n",
              "      <td>No Parking</td>\n",
              "      <td>CAT A</td>\n",
              "      <td>860</td>\n",
              "      <td>11632000</td>\n",
              "    </tr>\n",
              "  </tbody>\n",
              "</table>\n",
              "</div>"
            ],
            "text/plain": [
              "     Dist_Taxi  Dist_Market  Dist_Hospital  ...  City_Category  Rainfall House_Price\n",
              "678     7288.0       9560.0        12531.0  ...          CAT A       860    11632000\n",
              "\n",
              "[1 rows x 9 columns]"
            ]
          },
          "metadata": {
            "tags": []
          },
          "execution_count": 4
        }
      ]
    },
    {
      "cell_type": "markdown",
      "metadata": {
        "id": "R43UcvyINmO1"
      },
      "source": [
        "###**Tugas 2:**\n",
        "**Bagaimana mengeluarkan semua *outlier* bawah di *Box Plot* di atas?**\n",
        "*   Petunjuk: \"Slice\" terlebih dahulu datanya.\n"
      ]
    },
    {
      "cell_type": "code",
      "metadata": {
        "colab": {
          "base_uri": "https://localhost:8080/",
          "height": 285
        },
        "id": "n9D7xk18Nkxy",
        "outputId": "162c6280-2cb3-4fe6-d08c-3c740c7c6f20"
      },
      "source": [
        "cata = price2[price2.City_Category == \"CAT A\"]\n",
        "p = sns.boxplot(x = \"House_Price\", y = \"Parking\", data = cata)"
      ],
      "execution_count": 5,
      "outputs": [
        {
          "output_type": "display_data",
          "data": {
            "image/png": "[encoded data removed]",
            "text/plain": [
              "<Figure size 432x288 with 1 Axes>"
            ]
          },
          "metadata": {
            "tags": [],
            "needs_background": "light"
          }
        }
      ]
    },
    {
      "cell_type": "code",
      "metadata": {
        "id": "qOJnuPFaOKcS"
      },
      "source": [
        "cata_covered = cata[cata.Parking == \"Covered\"]\n",
        "cata_np = cata[cata.Parking == \"No Parking\"]\n",
        "cata_open = cata[cata.Parking == \"Open\"]\n",
        "\n",
        "Q1ac = cata_covered[\"House_Price\"].quantile(0.25)\n",
        "Q3ac = cata_covered[\"House_Price\"].quantile(0.75)\n",
        "IQRac = Q3ac - Q1ac\n",
        "outliers_bawahac = (cata_covered[\"House_Price\"] < (Q1ac - 1.5*IQRac))\n",
        "\n",
        "Q1anp = cata_np[\"House_Price\"].quantile(0.25)\n",
        "Q3anp = cata_np[\"House_Price\"].quantile(0.75)\n",
        "IQRanp = Q3anp - Q1anp\n",
        "outliers_bawahanp = (cata_np[\"House_Price\"] < (Q1anp - 1.5*IQRanp))\n",
        "\n",
        "Q1ao = cata_open[\"House_Price\"].quantile(0.25)\n",
        "Q3ao = cata_open[\"House_Price\"].quantile(0.75)\n",
        "IQRao = Q3ao - Q1ao\n",
        "outliers_bawahao = (cata_open[\"House_Price\"] < (Q1ao - 1.5*IQRao))"
      ],
      "execution_count": 6,
      "outputs": []
    },
    {
      "cell_type": "code",
      "metadata": {
        "colab": {
          "base_uri": "https://localhost:8080/",
          "height": 109
        },
        "id": "4ZvvdM4SPlpA",
        "outputId": "cd8f5540-0cb6-48f2-9659-9757d69930f5"
      },
      "source": [
        "cata_covered.loc[outliers_bawahac].head()"
      ],
      "execution_count": 7,
      "outputs": [
        {
          "output_type": "execute_result",
          "data": {
            "text/html": [
              "<div>\n",
              "<style scoped>\n",
              "    .dataframe tbody tr th:only-of-type {\n",
              "        vertical-align: middle;\n",
              "    }\n",
              "\n",
              "    .dataframe tbody tr th {\n",
              "        vertical-align: top;\n",
              "    }\n",
              "\n",
              "    .dataframe thead th {\n",
              "        text-align: right;\n",
              "    }\n",
              "</style>\n",
              "<table border=\"1\" class=\"dataframe\">\n",
              "  <thead>\n",
              "    <tr style=\"text-align: right;\">\n",
              "      <th></th>\n",
              "      <th>Dist_Taxi</th>\n",
              "      <th>Dist_Market</th>\n",
              "      <th>Dist_Hospital</th>\n",
              "      <th>Carpet</th>\n",
              "      <th>Builtup</th>\n",
              "      <th>Parking</th>\n",
              "      <th>City_Category</th>\n",
              "      <th>Rainfall</th>\n",
              "      <th>House_Price</th>\n",
              "    </tr>\n",
              "  </thead>\n",
              "  <tbody>\n",
              "    <tr>\n",
              "      <th>320</th>\n",
              "      <td>11240.0</td>\n",
              "      <td>9781.0</td>\n",
              "      <td>15232.0</td>\n",
              "      <td>1523.0</td>\n",
              "      <td>1813.0</td>\n",
              "      <td>Covered</td>\n",
              "      <td>CAT A</td>\n",
              "      <td>520</td>\n",
              "      <td>4496000</td>\n",
              "    </tr>\n",
              "    <tr>\n",
              "      <th>875</th>\n",
              "      <td>9997.0</td>\n",
              "      <td>12349.0</td>\n",
              "      <td>13043.0</td>\n",
              "      <td>1350.0</td>\n",
              "      <td>1606.0</td>\n",
              "      <td>Covered</td>\n",
              "      <td>CAT A</td>\n",
              "      <td>770</td>\n",
              "      <td>4303000</td>\n",
              "    </tr>\n",
              "  </tbody>\n",
              "</table>\n",
              "</div>"
            ],
            "text/plain": [
              "     Dist_Taxi  Dist_Market  Dist_Hospital  ...  City_Category  Rainfall House_Price\n",
              "320    11240.0       9781.0        15232.0  ...          CAT A       520     4496000\n",
              "875     9997.0      12349.0        13043.0  ...          CAT A       770     4303000\n",
              "\n",
              "[2 rows x 9 columns]"
            ]
          },
          "metadata": {
            "tags": []
          },
          "execution_count": 7
        }
      ]
    },
    {
      "cell_type": "code",
      "metadata": {
        "colab": {
          "base_uri": "https://localhost:8080/",
          "height": 78
        },
        "id": "TG-sm5q9PnwF",
        "outputId": "607412b9-402b-42e4-bde2-a79dfdab59bc"
      },
      "source": [
        "cata_np.loc[outliers_bawahanp].head()"
      ],
      "execution_count": 8,
      "outputs": [
        {
          "output_type": "execute_result",
          "data": {
            "text/html": [
              "<div>\n",
              "<style scoped>\n",
              "    .dataframe tbody tr th:only-of-type {\n",
              "        vertical-align: middle;\n",
              "    }\n",
              "\n",
              "    .dataframe tbody tr th {\n",
              "        vertical-align: top;\n",
              "    }\n",
              "\n",
              "    .dataframe thead th {\n",
              "        text-align: right;\n",
              "    }\n",
              "</style>\n",
              "<table border=\"1\" class=\"dataframe\">\n",
              "  <thead>\n",
              "    <tr style=\"text-align: right;\">\n",
              "      <th></th>\n",
              "      <th>Dist_Taxi</th>\n",
              "      <th>Dist_Market</th>\n",
              "      <th>Dist_Hospital</th>\n",
              "      <th>Carpet</th>\n",
              "      <th>Builtup</th>\n",
              "      <th>Parking</th>\n",
              "      <th>City_Category</th>\n",
              "      <th>Rainfall</th>\n",
              "      <th>House_Price</th>\n",
              "    </tr>\n",
              "  </thead>\n",
              "  <tbody>\n",
              "    <tr>\n",
              "      <th>409</th>\n",
              "      <td>8773.0</td>\n",
              "      <td>13547.0</td>\n",
              "      <td>15551.0</td>\n",
              "      <td>1509.0</td>\n",
              "      <td>1799.0</td>\n",
              "      <td>No Parking</td>\n",
              "      <td>CAT A</td>\n",
              "      <td>960</td>\n",
              "      <td>3860000</td>\n",
              "    </tr>\n",
              "  </tbody>\n",
              "</table>\n",
              "</div>"
            ],
            "text/plain": [
              "     Dist_Taxi  Dist_Market  Dist_Hospital  ...  City_Category  Rainfall House_Price\n",
              "409     8773.0      13547.0        15551.0  ...          CAT A       960     3860000\n",
              "\n",
              "[1 rows x 9 columns]"
            ]
          },
          "metadata": {
            "tags": []
          },
          "execution_count": 8
        }
      ]
    },
    {
      "cell_type": "code",
      "metadata": {
        "colab": {
          "base_uri": "https://localhost:8080/",
          "height": 78
        },
        "id": "tXJj74uOPu7J",
        "outputId": "688914c3-e71e-48ef-fd0c-c146863d83c2"
      },
      "source": [
        "cata_open.loc[outliers_bawahao].head()"
      ],
      "execution_count": 9,
      "outputs": [
        {
          "output_type": "execute_result",
          "data": {
            "text/html": [
              "<div>\n",
              "<style scoped>\n",
              "    .dataframe tbody tr th:only-of-type {\n",
              "        vertical-align: middle;\n",
              "    }\n",
              "\n",
              "    .dataframe tbody tr th {\n",
              "        vertical-align: top;\n",
              "    }\n",
              "\n",
              "    .dataframe thead th {\n",
              "        text-align: right;\n",
              "    }\n",
              "</style>\n",
              "<table border=\"1\" class=\"dataframe\">\n",
              "  <thead>\n",
              "    <tr style=\"text-align: right;\">\n",
              "      <th></th>\n",
              "      <th>Dist_Taxi</th>\n",
              "      <th>Dist_Market</th>\n",
              "      <th>Dist_Hospital</th>\n",
              "      <th>Carpet</th>\n",
              "      <th>Builtup</th>\n",
              "      <th>Parking</th>\n",
              "      <th>City_Category</th>\n",
              "      <th>Rainfall</th>\n",
              "      <th>House_Price</th>\n",
              "    </tr>\n",
              "  </thead>\n",
              "  <tbody>\n",
              "    <tr>\n",
              "      <th>811</th>\n",
              "      <td>NaN</td>\n",
              "      <td>NaN</td>\n",
              "      <td>NaN</td>\n",
              "      <td>NaN</td>\n",
              "      <td>NaN</td>\n",
              "      <td>Open</td>\n",
              "      <td>CAT A</td>\n",
              "      <td>440</td>\n",
              "      <td>30000</td>\n",
              "    </tr>\n",
              "  </tbody>\n",
              "</table>\n",
              "</div>"
            ],
            "text/plain": [
              "     Dist_Taxi  Dist_Market  Dist_Hospital  ...  City_Category  Rainfall House_Price\n",
              "811        NaN          NaN            NaN  ...          CAT A       440       30000\n",
              "\n",
              "[1 rows x 9 columns]"
            ]
          },
          "metadata": {
            "tags": []
          },
          "execution_count": 9
        }
      ]
    },
    {
      "cell_type": "code",
      "metadata": {
        "colab": {
          "base_uri": "https://localhost:8080/",
          "height": 285
        },
        "id": "P0L7OIzHQa-E",
        "outputId": "69944bbd-a4ed-44ef-d05b-22574acdf231"
      },
      "source": [
        "catb = price2[price2.City_Category == \"CAT B\"]\n",
        "p = sns.boxplot(x = \"House_Price\", y = \"Parking\", data = catb)"
      ],
      "execution_count": 10,
      "outputs": [
        {
          "output_type": "display_data",
          "data": {
            "image/png": "[encoded data removed]",
            "text/plain": [
              "<Figure size 432x288 with 1 Axes>"
            ]
          },
          "metadata": {
            "tags": [],
            "needs_background": "light"
          }
        }
      ]
    },
    {
      "cell_type": "markdown",
      "metadata": {
        "id": "lsPZVONnQly5"
      },
      "source": [
        "Dari *Box Plot* di atas, tidak ada *outlier* di kategori B."
      ]
    },
    {
      "cell_type": "code",
      "metadata": {
        "colab": {
          "base_uri": "https://localhost:8080/",
          "height": 285
        },
        "id": "lQD74IQMQyb0",
        "outputId": "6eddd5fb-82a7-4e43-a9c7-19fe655fda3f"
      },
      "source": [
        "catc = price2[price2.City_Category == \"CAT C\"]\n",
        "p = sns.boxplot(x = \"House_Price\", y = \"Parking\", data = catc)"
      ],
      "execution_count": 11,
      "outputs": [
        {
          "output_type": "display_data",
          "data": {
            "image/png": "[encoded data removed]",
            "text/plain": [
              "<Figure size 432x288 with 1 Axes>"
            ]
          },
          "metadata": {
            "tags": [],
            "needs_background": "light"
          }
        }
      ]
    },
    {
      "cell_type": "code",
      "metadata": {
        "colab": {
          "base_uri": "https://localhost:8080/",
          "height": 78
        },
        "id": "z5oiPx1FRACs",
        "outputId": "f49b8c76-a455-4a60-e69d-1c8330fdc3eb"
      },
      "source": [
        "catc_covered = catc[catc.Parking == \"Covered\"]\n",
        "Q1cc = catc_covered[\"House_Price\"].quantile(0.25)\n",
        "Q3cc = catc_covered[\"House_Price\"].quantile(0.75)\n",
        "IQRcc = Q3cc - Q1cc\n",
        "outliers_bawahcc = (catc_covered[\"House_Price\"] < (Q1cc - 1.5*IQRcc))\n",
        "catc_covered.loc[outliers_bawahcc].head()"
      ],
      "execution_count": 12,
      "outputs": [
        {
          "output_type": "execute_result",
          "data": {
            "text/html": [
              "<div>\n",
              "<style scoped>\n",
              "    .dataframe tbody tr th:only-of-type {\n",
              "        vertical-align: middle;\n",
              "    }\n",
              "\n",
              "    .dataframe tbody tr th {\n",
              "        vertical-align: top;\n",
              "    }\n",
              "\n",
              "    .dataframe thead th {\n",
              "        text-align: right;\n",
              "    }\n",
              "</style>\n",
              "<table border=\"1\" class=\"dataframe\">\n",
              "  <thead>\n",
              "    <tr style=\"text-align: right;\">\n",
              "      <th></th>\n",
              "      <th>Dist_Taxi</th>\n",
              "      <th>Dist_Market</th>\n",
              "      <th>Dist_Hospital</th>\n",
              "      <th>Carpet</th>\n",
              "      <th>Builtup</th>\n",
              "      <th>Parking</th>\n",
              "      <th>City_Category</th>\n",
              "      <th>Rainfall</th>\n",
              "      <th>House_Price</th>\n",
              "    </tr>\n",
              "  </thead>\n",
              "  <tbody>\n",
              "    <tr>\n",
              "      <th>622</th>\n",
              "      <td>4619.0</td>\n",
              "      <td>10768.0</td>\n",
              "      <td>11787.0</td>\n",
              "      <td>1624.0</td>\n",
              "      <td>1946.0</td>\n",
              "      <td>Covered</td>\n",
              "      <td>CAT C</td>\n",
              "      <td>870</td>\n",
              "      <td>2027000</td>\n",
              "    </tr>\n",
              "  </tbody>\n",
              "</table>\n",
              "</div>"
            ],
            "text/plain": [
              "     Dist_Taxi  Dist_Market  Dist_Hospital  ...  City_Category  Rainfall House_Price\n",
              "622     4619.0      10768.0        11787.0  ...          CAT C       870     2027000\n",
              "\n",
              "[1 rows x 9 columns]"
            ]
          },
          "metadata": {
            "tags": []
          },
          "execution_count": 12
        }
      ]
    },
    {
      "cell_type": "markdown",
      "metadata": {
        "id": "GytrLnxXNUiN"
      },
      "source": [
        "###**Tugas 3:**\n",
        "**Jawablah pertanyaan-pertanyaan berikut.**"
      ]
    },
    {
      "cell_type": "code",
      "metadata": {
        "colab": {
          "base_uri": "https://localhost:8080/",
          "height": 218
        },
        "id": "4Da_TInoH3Jl",
        "outputId": "178d8289-0e78-4f79-c4f7-d24bee5da750"
      },
      "source": [
        "# Loading Contoh Data studi kasus pertama di atas\n",
        "tips = sns.load_dataset('tips') # Loading dari SeaBorn library's dataset\n",
        "# Ukuran Data\n",
        "N, P = tips.shape\n",
        "print('baris = ', N, ', Kolom = ', P)\n",
        "\n",
        "tips.head()"
      ],
      "execution_count": 13,
      "outputs": [
        {
          "output_type": "stream",
          "text": [
            "baris =  244 , Kolom =  7\n"
          ],
          "name": "stdout"
        },
        {
          "output_type": "execute_result",
          "data": {
            "text/html": [
              "<div>\n",
              "<style scoped>\n",
              "    .dataframe tbody tr th:only-of-type {\n",
              "        vertical-align: middle;\n",
              "    }\n",
              "\n",
              "    .dataframe tbody tr th {\n",
              "        vertical-align: top;\n",
              "    }\n",
              "\n",
              "    .dataframe thead th {\n",
              "        text-align: right;\n",
              "    }\n",
              "</style>\n",
              "<table border=\"1\" class=\"dataframe\">\n",
              "  <thead>\n",
              "    <tr style=\"text-align: right;\">\n",
              "      <th></th>\n",
              "      <th>total_bill</th>\n",
              "      <th>tip</th>\n",
              "      <th>sex</th>\n",
              "      <th>smoker</th>\n",
              "      <th>day</th>\n",
              "      <th>time</th>\n",
              "      <th>size</th>\n",
              "    </tr>\n",
              "  </thead>\n",
              "  <tbody>\n",
              "    <tr>\n",
              "      <th>0</th>\n",
              "      <td>16.99</td>\n",
              "      <td>1.01</td>\n",
              "      <td>Female</td>\n",
              "      <td>No</td>\n",
              "      <td>Sun</td>\n",
              "      <td>Dinner</td>\n",
              "      <td>2</td>\n",
              "    </tr>\n",
              "    <tr>\n",
              "      <th>1</th>\n",
              "      <td>10.34</td>\n",
              "      <td>1.66</td>\n",
              "      <td>Male</td>\n",
              "      <td>No</td>\n",
              "      <td>Sun</td>\n",
              "      <td>Dinner</td>\n",
              "      <td>3</td>\n",
              "    </tr>\n",
              "    <tr>\n",
              "      <th>2</th>\n",
              "      <td>21.01</td>\n",
              "      <td>3.50</td>\n",
              "      <td>Male</td>\n",
              "      <td>No</td>\n",
              "      <td>Sun</td>\n",
              "      <td>Dinner</td>\n",
              "      <td>3</td>\n",
              "    </tr>\n",
              "    <tr>\n",
              "      <th>3</th>\n",
              "      <td>23.68</td>\n",
              "      <td>3.31</td>\n",
              "      <td>Male</td>\n",
              "      <td>No</td>\n",
              "      <td>Sun</td>\n",
              "      <td>Dinner</td>\n",
              "      <td>2</td>\n",
              "    </tr>\n",
              "    <tr>\n",
              "      <th>4</th>\n",
              "      <td>24.59</td>\n",
              "      <td>3.61</td>\n",
              "      <td>Female</td>\n",
              "      <td>No</td>\n",
              "      <td>Sun</td>\n",
              "      <td>Dinner</td>\n",
              "      <td>4</td>\n",
              "    </tr>\n",
              "  </tbody>\n",
              "</table>\n",
              "</div>"
            ],
            "text/plain": [
              "   total_bill   tip     sex smoker  day    time  size\n",
              "0       16.99  1.01  Female     No  Sun  Dinner     2\n",
              "1       10.34  1.66    Male     No  Sun  Dinner     3\n",
              "2       21.01  3.50    Male     No  Sun  Dinner     3\n",
              "3       23.68  3.31    Male     No  Sun  Dinner     2\n",
              "4       24.59  3.61  Female     No  Sun  Dinner     4"
            ]
          },
          "metadata": {
            "tags": []
          },
          "execution_count": 13
        }
      ]
    },
    {
      "cell_type": "markdown",
      "metadata": {
        "id": "2XkoFX0EH6HU"
      },
      "source": [
        "##### 1. **Adakah tipe variabel yang kurang tepat di data tersebut?**"
      ]
    },
    {
      "cell_type": "code",
      "metadata": {
        "colab": {
          "base_uri": "https://localhost:8080/"
        },
        "id": "k8txPBnFH4-h",
        "outputId": "5d108982-bcfe-425d-8871-3430e354634d"
      },
      "source": [
        "tips.info()"
      ],
      "execution_count": 14,
      "outputs": [
        {
          "output_type": "stream",
          "text": [
            "<class 'pandas.core.frame.DataFrame'>\n",
            "RangeIndex: 244 entries, 0 to 243\n",
            "Data columns (total 7 columns):\n",
            " #   Column      Non-Null Count  Dtype   \n",
            "---  ------      --------------  -----   \n",
            " 0   total_bill  244 non-null    float64 \n",
            " 1   tip         244 non-null    float64 \n",
            " 2   sex         244 non-null    category\n",
            " 3   smoker      244 non-null    category\n",
            " 4   day         244 non-null    category\n",
            " 5   time        244 non-null    category\n",
            " 6   size        244 non-null    int64   \n",
            "dtypes: category(4), float64(2), int64(1)\n",
            "memory usage: 7.3 KB\n"
          ],
          "name": "stdout"
        }
      ]
    },
    {
      "cell_type": "markdown",
      "metadata": {
        "id": "PV4KsqH_IBaX"
      },
      "source": [
        "Kesimpulan: Tipe data sudah tepat."
      ]
    },
    {
      "cell_type": "markdown",
      "metadata": {
        "id": "W8WUBACyIFXJ"
      },
      "source": [
        "#####2. **Apakah data numeriknya cenderung berdistribusi normal?**"
      ]
    },
    {
      "cell_type": "code",
      "metadata": {
        "colab": {
          "base_uri": "https://localhost:8080/",
          "height": 285
        },
        "id": "xGFtHqeuIE-d",
        "outputId": "a245223a-c6d4-4d47-f172-4472119d10ac"
      },
      "source": [
        "p = sns.distplot(tips['tip'], kde=True, rug=True)"
      ],
      "execution_count": 15,
      "outputs": [
        {
          "output_type": "display_data",
          "data": {
            "image/png": "[encoded data removed]",
            "text/plain": [
              "<Figure size 432x288 with 1 Axes>"
            ]
          },
          "metadata": {
            "tags": [],
            "needs_background": "light"
          }
        }
      ]
    },
    {
      "cell_type": "markdown",
      "metadata": {
        "id": "JMnYIvGIISNY"
      },
      "source": [
        "Kesimpulan: Data numeriknya tidak berdistribusi normal."
      ]
    },
    {
      "cell_type": "markdown",
      "metadata": {
        "id": "-rGGDZ-YIS_n"
      },
      "source": [
        "#####3. **Apakah ada *outlier*, *noise*, *missing values*, dan/atau duplikasi data?**"
      ]
    },
    {
      "cell_type": "markdown",
      "metadata": {
        "id": "9j0mZ5FOIWy9"
      },
      "source": [
        "######a) Mengecek apakah ada *outlier*"
      ]
    },
    {
      "cell_type": "code",
      "metadata": {
        "colab": {
          "base_uri": "https://localhost:8080/",
          "height": 285
        },
        "id": "yt45S0P6ItMD",
        "outputId": "b6e731c8-9958-44c2-fdc2-32c563733d83"
      },
      "source": [
        "p = sns.boxplot(x=\"time\", y=\"total_bill\", data=tips)"
      ],
      "execution_count": 16,
      "outputs": [
        {
          "output_type": "display_data",
          "data": {
            "image/png": "[encoded data removed]",
            "text/plain": [
              "<Figure size 432x288 with 1 Axes>"
            ]
          },
          "metadata": {
            "tags": [],
            "needs_background": "light"
          }
        }
      ]
    },
    {
      "cell_type": "markdown",
      "metadata": {
        "id": "IzNaxWnHIw08"
      },
      "source": [
        "Kesimpulan: Dilihat dari hasil visualisasi dengan *boxplot*, terdapat beberapa *outlier*."
      ]
    },
    {
      "cell_type": "markdown",
      "metadata": {
        "id": "kprmKm4WzW6g"
      },
      "source": [
        "######b) Mengecek apakah ada *noise*."
      ]
    },
    {
      "cell_type": "markdown",
      "metadata": {
        "id": "VgsBZ_i8zbd7"
      },
      "source": [
        "Kesimpulan: Tidak terdapat *noise* pada data."
      ]
    },
    {
      "cell_type": "markdown",
      "metadata": {
        "id": "myNS71uAJC1v"
      },
      "source": [
        "######c) Mengecek apakah ada *missing value*."
      ]
    },
    {
      "cell_type": "code",
      "metadata": {
        "colab": {
          "base_uri": "https://localhost:8080/"
        },
        "id": "lyyS8QKKJHq9",
        "outputId": "5f551f78-691a-408f-a68c-da1f49905fe2"
      },
      "source": [
        "print(tips.isnull().sum())"
      ],
      "execution_count": 17,
      "outputs": [
        {
          "output_type": "stream",
          "text": [
            "total_bill    0\n",
            "tip           0\n",
            "sex           0\n",
            "smoker        0\n",
            "day           0\n",
            "time          0\n",
            "size          0\n",
            "dtype: int64\n"
          ],
          "name": "stdout"
        }
      ]
    },
    {
      "cell_type": "markdown",
      "metadata": {
        "id": "JDmbzLjTJOvG"
      },
      "source": [
        "Kesimpulan: Tidak terdapat *missing values*.\n"
      ]
    },
    {
      "cell_type": "markdown",
      "metadata": {
        "id": "vSU_uPYSIz7D"
      },
      "source": [
        "######d) Mengecek apakah ada duplikasi data."
      ]
    },
    {
      "cell_type": "code",
      "metadata": {
        "colab": {
          "base_uri": "https://localhost:8080/"
        },
        "id": "BE9RU-zVIzTU",
        "outputId": "e31cda80-408a-4637-af80-e5f887371a36"
      },
      "source": [
        "tips.duplicated().sum()"
      ],
      "execution_count": 18,
      "outputs": [
        {
          "output_type": "execute_result",
          "data": {
            "text/plain": [
              "1"
            ]
          },
          "metadata": {
            "tags": []
          },
          "execution_count": 18
        }
      ]
    },
    {
      "cell_type": "markdown",
      "metadata": {
        "id": "kFQHP3P4JQCs"
      },
      "source": [
        "Kesimpulan: Terdapat duplikasi data."
      ]
    },
    {
      "cell_type": "markdown",
      "metadata": {
        "id": "pzLTOEWmJTY_"
      },
      "source": [
        "#####4. **Apakah pelanggan pria dan wanita cenderung proporsional (*balance*)?**"
      ]
    },
    {
      "cell_type": "code",
      "metadata": {
        "colab": {
          "base_uri": "https://localhost:8080/",
          "height": 264
        },
        "id": "lgX6ti0jJSv7",
        "outputId": "5fc3473d-7fdd-4cb1-976a-56899fabf6d5"
      },
      "source": [
        "data = tips['sex']\n",
        "\n",
        "proporsion = Counter(data)\n",
        "values = [float(v) for v in proporsion.values()]\n",
        "colors = ['r', 'b']\n",
        "labels = proporsion.keys()\n",
        "explode = (0, 0)\n",
        "plt.pie(values, colors=colors, labels= values, explode=explode, shadow=True)\n",
        "plt.title('Proporsi Pelanggan Pria dan Wanita')\n",
        "plt.legend(labels,loc='best')\n",
        "plt.show()"
      ],
      "execution_count": 19,
      "outputs": [
        {
          "output_type": "display_data",
          "data": {
            "image/png": "[encoded data removed]",
            "text/plain": [
              "<Figure size 432x288 with 1 Axes>"
            ]
          },
          "metadata": {
            "tags": []
          }
        }
      ]
    },
    {
      "cell_type": "markdown",
      "metadata": {
        "id": "KkghTYa4J2mY"
      },
      "source": [
        "#####5. **Dari data yang ada, apakah pria atau wanita ada kecenderungan memberi tips lebih besar?**"
      ]
    },
    {
      "cell_type": "code",
      "metadata": {
        "colab": {
          "base_uri": "https://localhost:8080/",
          "height": 404
        },
        "id": "n-GUed7OJ2IK",
        "outputId": "71360069-ec61-4c39-a57b-f1695c73aff6"
      },
      "source": [
        "sns.catplot(x=\"time\", y=\"tip\", hue=\"sex\", kind=\"swarm\", data=tips)"
      ],
      "execution_count": 20,
      "outputs": [
        {
          "output_type": "execute_result",
          "data": {
            "text/plain": [
              "<seaborn.axisgrid.FacetGrid at 0x7f628b5cfd10>"
            ]
          },
          "metadata": {
            "tags": []
          },
          "execution_count": 20
        },
        {
          "output_type": "display_data",
          "data": {
            "image/png": "[encoded data removed]",
            "text/plain": [
              "<Figure size 439.725x360 with 1 Axes>"
            ]
          },
          "metadata": {
            "tags": [],
            "needs_background": "light"
          }
        }
      ]
    },
    {
      "cell_type": "markdown",
      "metadata": {
        "id": "QGG1c9w5J7SH"
      },
      "source": [
        "Berdasarkan *swarm plot* di atas, terlihat bahwa tidak ada kecenderuan perbedaan signifikan jumlah tips antara pria dan wanita."
      ]
    },
    {
      "cell_type": "markdown",
      "metadata": {
        "id": "zM55UEkhKA7E"
      },
      "source": [
        "#####6. **Dari data yang ada, apakah ada kecenderungan tips lebih besar di hari-hari tertentu?**"
      ]
    },
    {
      "cell_type": "code",
      "metadata": {
        "colab": {
          "base_uri": "https://localhost:8080/",
          "height": 404
        },
        "id": "0mNT65yfSFUs",
        "outputId": "539188ff-a2cb-437a-b5a1-a0aa9dd52b57"
      },
      "source": [
        "sns.catplot(x = \"day\", y = \"tip\", data = tips)"
      ],
      "execution_count": 21,
      "outputs": [
        {
          "output_type": "execute_result",
          "data": {
            "text/plain": [
              "<seaborn.axisgrid.FacetGrid at 0x7f628b50a890>"
            ]
          },
          "metadata": {
            "tags": []
          },
          "execution_count": 21
        },
        {
          "output_type": "display_data",
          "data": {
            "image/png": "[encoded data removed]",
            "text/plain": [
              "<Figure size 360x360 with 1 Axes>"
            ]
          },
          "metadata": {
            "tags": [],
            "needs_background": "light"
          }
        }
      ]
    },
    {
      "cell_type": "markdown",
      "metadata": {
        "id": "Vo8DIW7SKEcA"
      },
      "source": [
        "Berdasarkan plot di atas, terlihat bahwa pada hari Jumat, jumlah tips yang diberikan lebih sedikit dibandingkan dengan hari lain."
      ]
    },
    {
      "cell_type": "markdown",
      "metadata": {
        "id": "2Bm6B7qKKFC-"
      },
      "source": [
        "#####7. **Dari data yang ada, apakah *customer* perokok cenderung memberi tips lebih besar?**"
      ]
    },
    {
      "cell_type": "code",
      "metadata": {
        "colab": {
          "base_uri": "https://localhost:8080/",
          "height": 404
        },
        "id": "xq5IO63ySPah",
        "outputId": "266c4e83-6212-476d-8ce4-bc0d3ec3fa68"
      },
      "source": [
        "sns.catplot(x = \"smoker\", y = \"tip\", data = tips)"
      ],
      "execution_count": 22,
      "outputs": [
        {
          "output_type": "execute_result",
          "data": {
            "text/plain": [
              "<seaborn.axisgrid.FacetGrid at 0x7f628b5f0910>"
            ]
          },
          "metadata": {
            "tags": []
          },
          "execution_count": 22
        },
        {
          "output_type": "display_data",
          "data": {
            "image/png": "[encoded data removed]",
            "text/plain": [
              "<Figure size 360x360 with 1 Axes>"
            ]
          },
          "metadata": {
            "tags": [],
            "needs_background": "light"
          }
        }
      ]
    },
    {
      "cell_type": "markdown",
      "metadata": {
        "id": "hSvqeYIIKHMM"
      },
      "source": [
        "Pada plot di atas, terlihat bahwa tidak ada perbedaan yang signifikan pada pemberian tips antara *customer* perokok dan *customer* yang tidak merokok."
      ]
    },
    {
      "cell_type": "markdown",
      "metadata": {
        "id": "jSS5ctnbKzXN"
      },
      "source": [
        "##### 8. **Apakah pola di nomer 5 dan 7 dipengaruhi hari?**"
      ]
    },
    {
      "cell_type": "markdown",
      "metadata": {
        "id": "tcfnwhkBK2Ic"
      },
      "source": [
        "Berdasarkan plot pada nomor 5 dan 7, hari tidak mempengaruhi kecenderungan pelanggan untuk memberi tips yang lebih besar."
      ]
    },
    {
      "cell_type": "markdown",
      "metadata": {
        "id": "te_kC8oGK7Pz"
      },
      "source": [
        "##### 9. **Pola apalagi yang dapat Anda temukan? (Misal, bisakah Anda menyarankan tata letak kursi/meja restoran dari data ini?)**"
      ]
    },
    {
      "cell_type": "code",
      "metadata": {
        "colab": {
          "base_uri": "https://localhost:8080/",
          "height": 303
        },
        "id": "yBK9kQikLBxC",
        "outputId": "0fb14669-af46-45b8-e052-bbd3b688a00e"
      },
      "source": [
        "sns.countplot(x=\"size\", data=tips)"
      ],
      "execution_count": 23,
      "outputs": [
        {
          "output_type": "execute_result",
          "data": {
            "text/plain": [
              "<matplotlib.axes._subplots.AxesSubplot at 0x7f628b633dd0>"
            ]
          },
          "metadata": {
            "tags": []
          },
          "execution_count": 23
        },
        {
          "output_type": "display_data",
          "data": {
            "image/png": "[encoded data removed]",
            "text/plain": [
              "<Figure size 432x288 with 1 Axes>"
            ]
          },
          "metadata": {
            "tags": [],
            "needs_background": "light"
          }
        }
      ]
    },
    {
      "cell_type": "markdown",
      "metadata": {
        "id": "0tgzxl7dLBZD"
      },
      "source": [
        "Dari plot diatas, dapat dikatakan bahwa restoran cenderung menerima pelanggan yang berpasangan dibanding berkelompok ataupun sendiri. Oleh karena itu, kami akan menyarankan restoran untuk memperbanyak tatanan kursi dan meja dalam bentuk berpasangan."
      ]
    },
    {
      "cell_type": "code",
      "metadata": {
        "colab": {
          "base_uri": "https://localhost:8080/",
          "height": 303
        },
        "id": "2Bw25NkNLIaO",
        "outputId": "027bcfa0-877e-4f2e-f9c8-13468f29f4fa"
      },
      "source": [
        "sns.countplot(x=\"smoker\", data=tips)"
      ],
      "execution_count": 24,
      "outputs": [
        {
          "output_type": "execute_result",
          "data": {
            "text/plain": [
              "<matplotlib.axes._subplots.AxesSubplot at 0x7f628277d110>"
            ]
          },
          "metadata": {
            "tags": []
          },
          "execution_count": 24
        },
        {
          "output_type": "display_data",
          "data": {
            "image/png": "[encoded data removed]",
            "text/plain": [
              "<Figure size 432x288 with 1 Axes>"
            ]
          },
          "metadata": {
            "tags": [],
            "needs_background": "light"
          }
        }
      ]
    },
    {
      "cell_type": "markdown",
      "metadata": {
        "id": "ockiN_uDLK4l"
      },
      "source": [
        "Dari plot diatas, dapat dilihat bahwa cenderung lebih banyak pelanggan yang tidak merokok dibanding dengan yang merokok. Maka, kami akan menyarankan restoran untuk menyediakan lebih banyak tempat di dalam ruangan dibanding tempat *smoking area*."
      ]
    },
    {
      "cell_type": "markdown",
      "metadata": {
        "id": "g_MT1k1zK94t"
      },
      "source": [
        "##### 10. **Dari hasil EDA Anda, saran apa saja yang akan Anda berikan ke pemilik restoran?**"
      ]
    },
    {
      "cell_type": "markdown",
      "metadata": {
        "id": "Tlqys0AULSfm"
      },
      "source": [
        "Berdasarkan data yang sudah didapat, saran yang akan kami berikan adalah memperbanyak pegawai wanita karena terlihat bahwa jumlah pelanggan pria lebih banyak dibanding wanita. Selain itu, juga memperbanyak pegawai khususnya pada akhir pekan karena terlihat lebih padat dari hari Kamis dan Jumat. Kemudian, kami akan menyarankan restoran untuk membuat tata letak kursi dan meja lebih banyak dalam bentuk berpasangan. Kami juga akan menyarankan untuk memperbanyak tempat duduk di dalam ruangan karena cenderung lebih banyak pelanggan yang tidak merokok."
      ]
    }
  ]
}